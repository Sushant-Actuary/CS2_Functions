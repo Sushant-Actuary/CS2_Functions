{
 "cells": [
  {
   "cell_type": "markdown",
   "metadata": {},
   "source": [
    "# CS2 FUNCTIONS"
   ]
  },
  {
   "cell_type": "code",
   "execution_count": 1,
   "metadata": {},
   "outputs": [
    {
     "name": "stdout",
     "output_type": "stream",
     "text": [
      "Fitted parameters for gamma distribution (MLE): (22.359637902901397, 65.0974564917566)\n"
     ]
    }
   ],
   "source": [
    "import numpy as np\n",
    "import scipy.stats as stats\n",
    "\n",
    "def fit_loss_distribution(data, dist_type='lognorm', method='MLE'):\n",
    "    \"\"\"\n",
    "    Fits a parametric distribution (lognormal, Pareto, Exponential, Gamma, etc.) to a dataset of loss values.\n",
    "    \n",
    "    Parameters:\n",
    "    - data: List or array of loss values\n",
    "    - dist_type: Type of distribution to fit ('lognorm', 'pareto', 'expon', 'gamma', etc.)\n",
    "    - method: Method for fitting ('MLE' or 'MoM')\n",
    "    \n",
    "    Returns:\n",
    "    - params: Fitted parameter values for the specified distribution\n",
    "    \"\"\"\n",
    "    \n",
    "    # Convert data to a numpy array for easier manipulation\n",
    "    data = np.array(data)\n",
    "    \n",
    "    # Method of Moments (MoM)\n",
    "    def fit_moments(data, dist_type):\n",
    "        if dist_type == 'lognorm':\n",
    "            # Lognormal Distribution: Fit using Mean and Variance\n",
    "            mean = np.mean(data)\n",
    "            var = np.var(data)\n",
    "            shape = np.sqrt(np.log(1 + (var / mean**2)))\n",
    "            scale = mean / np.sqrt(1 + (var / mean**2))\n",
    "            return shape, scale\n",
    "        elif dist_type == 'pareto':\n",
    "            # Pareto Distribution: Fit using Mean and Scale\n",
    "            alpha = 1 + len(data) / np.sum(np.log(data / np.min(data)))\n",
    "            scale = np.min(data) * (len(data) / np.sum(np.log(data / np.min(data))))**(1 / alpha)\n",
    "            return alpha, scale\n",
    "        elif dist_type == 'expon':\n",
    "            # Exponential Distribution: Fit using Mean\n",
    "            scale = np.mean(data)\n",
    "            return scale,\n",
    "        elif dist_type == 'gamma':\n",
    "            # Gamma Distribution: Fit using Mean and Variance\n",
    "            mean = np.mean(data)\n",
    "            var = np.var(data)\n",
    "            shape = mean**2 / var\n",
    "            scale = var / mean\n",
    "            return shape, scale\n",
    "        else:\n",
    "            raise ValueError(\"Unsupported distribution type for MoM\")\n",
    "    \n",
    "    # Maximum Likelihood Estimation (MLE)\n",
    "    def fit_mle(data, dist_type):\n",
    "        if dist_type == 'lognorm':\n",
    "            # Lognormal distribution MLE fitting\n",
    "            shape, loc, scale = stats.lognorm.fit(data, floc=0)\n",
    "            return shape, scale\n",
    "        elif dist_type == 'pareto':\n",
    "            # Pareto distribution MLE fitting\n",
    "            shape, loc, scale = stats.pareto.fit(data, floc=0)\n",
    "            return shape, scale\n",
    "        elif dist_type == 'expon':\n",
    "            # Exponential distribution MLE fitting\n",
    "            loc, scale = stats.expon.fit(data, floc=0)\n",
    "            return scale,\n",
    "        elif dist_type == 'gamma':\n",
    "            # Gamma distribution MLE fitting\n",
    "            shape, loc, scale = stats.gamma.fit(data, floc=0)\n",
    "            return shape, scale\n",
    "        else:\n",
    "            raise ValueError(\"Unsupported distribution type for MLE\")\n",
    "\n",
    "    # Choose method for fitting\n",
    "    if method == 'MoM':\n",
    "        params = fit_moments(data, dist_type)\n",
    "    elif method == 'MLE':\n",
    "        params = fit_mle(data, dist_type)\n",
    "    else:\n",
    "        raise ValueError(\"Unsupported method: choose 'MLE' or 'MoM'\")\n",
    "    \n",
    "    return params\n",
    "\n",
    "# Example Usage:\n",
    "loss_data = [1200, 1500, 1800, 1000, 1300, 1600, 1700, 1900, 1100]\n",
    "dist_type = 'gamma'  # You can also try 'lognorm', 'pareto', 'expon', etc.\n",
    "method = 'MLE'  # Alternatively, 'MoM'\n",
    "\n",
    "params = fit_loss_distribution(loss_data, dist_type, method)\n",
    "print(f\"Fitted parameters for {dist_type} distribution ({method}): {params}\")"
   ]
  }
 ],
 "metadata": {
  "kernelspec": {
   "display_name": "Python 3",
   "language": "python",
   "name": "python3"
  },
  "language_info": {
   "codemirror_mode": {
    "name": "ipython",
    "version": 3
   },
   "file_extension": ".py",
   "mimetype": "text/x-python",
   "name": "python",
   "nbconvert_exporter": "python",
   "pygments_lexer": "ipython3",
   "version": "3.11.9"
  }
 },
 "nbformat": 4,
 "nbformat_minor": 2
}
